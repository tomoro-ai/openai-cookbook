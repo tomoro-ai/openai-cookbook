{
 "cells": [
  {
   "cell_type": "markdown",
   "id": "b2293fe7-a00b-43e0-ba35-c05ed268f455",
   "metadata": {},
   "source": [
    "# Vector similarity search using pgvector extension in PostgreSQL\n",
    "\n",
    "This note"
   ]
  }
 ],
 "metadata": {
  "kernelspec": {
   "display_name": "MSMARCO",
   "language": "python",
   "name": "msmarco"
  },
  "language_info": {
   "codemirror_mode": {
    "name": "ipython",
    "version": 3
   },
   "file_extension": ".py",
   "mimetype": "text/x-python",
   "name": "python",
   "nbconvert_exporter": "python",
   "pygments_lexer": "ipython3",
   "version": "3.12.5"
  }
 },
 "nbformat": 4,
 "nbformat_minor": 5
}
